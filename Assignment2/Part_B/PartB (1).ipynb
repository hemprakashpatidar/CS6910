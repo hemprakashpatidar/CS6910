{
  "nbformat": 4,
  "nbformat_minor": 0,
  "metadata": {
    "colab": {
      "name": "PartB.ipynb",
      "provenance": [],
      "collapsed_sections": []
    },
    "kernelspec": {
      "name": "python3",
      "display_name": "Python 3"
    },
    "language_info": {
      "name": "python"
    },
    "accelerator": "GPU"
  },
  "cells": [
    {
      "cell_type": "code",
      "metadata": {
        "id": "tUkuSBKXftoo"
      },
      "source": [
        "import tensorflow as tf\n",
        "import numpy as np\n",
        "from tensorflow.keras import datasets, layers, models\n",
        "import matplotlib.pyplot as plt\n",
        "import keras\n",
        "from wandb.keras import WandbCallback\n"
      ],
      "execution_count": 29,
      "outputs": []
    },
    {
      "cell_type": "code",
      "metadata": {
        "id": "FWJ5VebkoclT"
      },
      "source": [
        "from tensorflow.keras.applications.inception_v3 import InceptionV3\n",
        "from tensorflow.keras.applications.resnet50 import ResNet50\n",
        "from tensorflow.keras.applications.xception import Xception"
      ],
      "execution_count": 3,
      "outputs": []
    },
    {
      "cell_type": "code",
      "metadata": {
        "id": "WWEn3U9Sf3pq"
      },
      "source": [
        "from tensorflow.keras.preprocessing.image import ImageDataGenerator\n",
        " \n",
        "train_generator = ImageDataGenerator(rescale=1./255,validation_split=0.1).flow_from_directory(\n",
        "                                                    '/content/drive/MyDrive/Colab Notebooks/inaturalist_12K/train',\n",
        "                                                     target_size=(224, 224),\n",
        "                                                     batch_size=3000,\n",
        "                                                     class_mode='binary',\n",
        "                                                     subset='training',\n",
        "                                                     seed=123)\n",
        "val_generator = ImageDataGenerator(rescale=1./255,validation_split=0.1).flow_from_directory(\n",
        "                                                    '/content/drive/MyDrive/Colab Notebooks/inaturalist_12K/train',\n",
        "                                                     target_size=(224, 224),\n",
        "                                                     batch_size=200,\n",
        "                                                     class_mode='binary',\n",
        "                                                     subset='validation',\n",
        "                                                     seed=123)"
      ],
      "execution_count": null,
      "outputs": []
    },
    {
      "cell_type": "code",
      "metadata": {
        "id": "kKT7KbAEuziA"
      },
      "source": [
        "train_generatori = ImageDataGenerator(rescale=1./255,validation_split=0.1).flow_from_directory(\n",
        "                                                    '/content/drive/MyDrive/Colab Notebooks/inaturalist_12K/train',\n",
        "                                                     target_size=(299, 299),\n",
        "                                                     batch_size=3000,\n",
        "                                                     class_mode='binary',\n",
        "                                                     subset='training',\n",
        "                                                     seed=123)\n",
        "\n",
        "val_generatori = ImageDataGenerator(rescale=1./255,validation_split=0.1).flow_from_directory(\n",
        "                                                    '/content/drive/MyDrive/Colab Notebooks/inaturalist_12K/train',\n",
        "                                                     target_size=(299, 299),\n",
        "                                                     batch_size=200,\n",
        "                                                     class_mode='binary',\n",
        "                                                     subset='validation',\n",
        "                                                     seed=123)"
      ],
      "execution_count": null,
      "outputs": []
    },
    {
      "cell_type": "code",
      "metadata": {
        "id": "ElaeAgQAu6uj"
      },
      "source": [
        "X_traini, y_traini=next(train_generatori)\n",
        "X_vali, y_vali = next(val_generatori)"
      ],
      "execution_count": 6,
      "outputs": []
    },
    {
      "cell_type": "code",
      "metadata": {
        "id": "JrJXTTMDgTIQ"
      },
      "source": [
        "X_train, y_train = next(train_generator)\n",
        "X_val, y_val = next(val_generator)"
      ],
      "execution_count": 8,
      "outputs": []
    },
    {
      "cell_type": "code",
      "metadata": {
        "colab": {
          "base_uri": "https://localhost:8080/"
        },
        "id": "kIkCfSTBf_6w",
        "outputId": "5e4a53aa-e554-4583-cc24-4070902ce6f1"
      },
      "source": [
        "from google.colab import drive\n",
        "drive.mount('/content/drive')"
      ],
      "execution_count": 3,
      "outputs": [
        {
          "output_type": "stream",
          "text": [
            "Mounted at /content/drive\n"
          ],
          "name": "stdout"
        }
      ]
    },
    {
      "cell_type": "code",
      "metadata": {
        "id": "QGszqORfO4H-"
      },
      "source": [
        "bi"
      ],
      "execution_count": null,
      "outputs": []
    },
    {
      "cell_type": "code",
      "metadata": {
        "id": "B8i42ahYoEnr"
      },
      "source": [
        "class MyCNNPre(object):\n",
        "  def __init__(self,model_name):\n",
        "     self.model_name=model_name\n",
        "\n",
        "  def train(self):\n",
        "    if(self.model_name=='ResNet50'):\n",
        "      model_a = ResNet50(weights='imagenet')\n",
        "      bi=model_a.layers[0].input\n",
        "      bo=model_a.layers[-2].output\n",
        "      fo=layers.Dense(10)(bo)\n",
        "      model=keras.Model(inputs=bi,outputs=fo)\n",
        "      opt = tf.keras.optimizers.Adam(learning_rate=0.0001)\n",
        "      model.compile(optimizer=opt,\n",
        "                loss=tf.keras.losses.SparseCategoricalCrossentropy(from_logits=True),\n",
        "                metrics=['accuracy'])\n",
        "\n",
        "\n",
        "      model.fit(X_train,y_train, epochs=10,validation_data=(X_val, y_val))\n",
        "      \n",
        "    if(self.model_name=='InceptionV3'):\n",
        "      model_a = InceptionV3(weights='imagenet')\n",
        "      bi=model_a.layers[0].input\n",
        "      bo=model_a.layers[-2].output\n",
        "      fo=layers.Dense(10)(bo)\n",
        "      model=keras.Model(inputs=bi,outputs=fo)\n",
        "      opt = tf.keras.optimizers.Adam(learning_rate=0.0001)\n",
        "      model.compile(optimizer=opt,\n",
        "                loss=tf.keras.losses.SparseCategoricalCrossentropy(from_logits=True),\n",
        "                metrics=['accuracy'])\n",
        "\n",
        "\n",
        "      model.fit(X_traini,y_traini, epochs=10,validation_data=(X_vali, y_vali))\n",
        "    if(self.model_name=='Xception'):\n",
        "      model_a = Xception(weights='imagenet')\n",
        "      bi=model_a.layers[0].input\n",
        "      bo=model_a.layers[-2].output\n",
        "      fo=layers.Dense(10)(bo)\n",
        "      model=keras.Model(inputs=bi,outputs=fo)\n",
        "      opt = tf.keras.optimizers.Adam(learning_rate=0.0001)\n",
        "      model.compile(optimizer=opt,\n",
        "                loss=tf.keras.losses.SparseCategoricalCrossentropy(from_logits=True),\n",
        "                metrics=['accuracy'])\n",
        "\n",
        "\n",
        "      model.fit(X_traini,y_traini, epochs=10,validation_data=(X_vali, y_vali))\n",
        "      "
      ],
      "execution_count": 39,
      "outputs": []
    },
    {
      "cell_type": "code",
      "metadata": {
        "id": "xqrd1BQm_YXG"
      },
      "source": [
        "Modelname='InceptionV3'\n",
        "modell = MyCNNPre(Modelname)\n",
        "modell.train()"
      ],
      "execution_count": null,
      "outputs": []
    },
    {
      "cell_type": "code",
      "metadata": {
        "id": "NSlfP2FY3sBz"
      },
      "source": [
        "input_shape=(224,224,3)\n",
        "fl=16\n",
        "filt_fact=1\n",
        "#Layer=[int(fl*(filt_fact**i)) for i in range(0,5)]\n",
        "Layer=[16,256,32,16,128]\n",
        "model =models.Sequential()\n",
        "model.add(layers.Conv2D(Layer[0], (3, 3), input_shape=input_shape))\n",
        "model.add(layers.Activation('relu'))\n",
        "model.add(layers.MaxPooling2D(pool_size=(2, 2)))\n",
        "model.add(layers.BatchNormalization())\n",
        "\n",
        "\n",
        "model.add(layers.Conv2D(Layer[1], (3, 3), activation='relu'))\n",
        "model.add(layers.MaxPooling2D((2, 2)))\n",
        "model.add(layers.BatchNormalization())\n",
        "\n",
        "\n",
        "model.add(layers.Conv2D(Layer[2], (3, 3), activation='relu'))\n",
        "model.add(layers.MaxPooling2D((2, 2)))\n",
        "model.add(layers.BatchNormalization())\n",
        "\n",
        "\n",
        "model.add(layers.Conv2D(Layer[3], (3, 3), activation='relu'))\n",
        "model.add(layers.MaxPooling2D((2, 2)))\n",
        "model.add(layers.BatchNormalization())\n",
        "\n",
        "\n",
        "model.add(layers.Conv2D(Layer[4], (3, 3), activation='relu'))\n",
        "model.add(layers.MaxPooling2D((3, 3)))\n",
        "\n",
        "model.add(layers.Flatten())\n",
        "model.add(layers.Dense(128, activation='relu'))\n",
        "model.add(layers.Dropout(0.3))\n",
        "\n",
        "model.add(layers.Dense(10,activation='softmax'))"
      ],
      "execution_count": 24,
      "outputs": []
    },
    {
      "cell_type": "code",
      "metadata": {
        "id": "aOFAGTIPgYXV"
      },
      "source": [
        "opt = tf.keras.optimizers.Adam(learning_rate=0.0001)\n",
        "model.compile(optimizer=opt,\n",
        "              loss=tf.keras.losses.SparseCategoricalCrossentropy(from_logits=True),\n",
        "              metrics=['accuracy'])\n",
        "\n"
      ],
      "execution_count": 25,
      "outputs": []
    },
    {
      "cell_type": "code",
      "metadata": {
        "id": "OXg1cf6vmKZI"
      },
      "source": [
        ""
      ],
      "execution_count": null,
      "outputs": []
    },
    {
      "cell_type": "code",
      "metadata": {
        "colab": {
          "base_uri": "https://localhost:8080/"
        },
        "id": "Kr2qI1QqBv_z",
        "outputId": "4176a1f1-862c-4b97-f73e-a97a9d21eae0"
      },
      "source": [
        "train_test = ImageDataGenerator(rescale=1./255, rotation_range=40,\n",
        "        width_shift_range=0.2,\n",
        "        height_shift_range=0.2,\n",
        "        shear_range=0.2,\n",
        "        zoom_range=0.2,\n",
        "        horizontal_flip=True,\n",
        "        fill_mode='nearest').flow_from_directory(\n",
        "                                                    '/content/drive/MyDrive/Colab Notebooks/inaturalist_12K/val',\n",
        "                                                     target_size=(224, 224),\n",
        "                                                     batch_size=1000,\n",
        "                                                     class_mode='binary',\n",
        "                                                     seed=12)\n"
      ],
      "execution_count": 13,
      "outputs": [
        {
          "output_type": "stream",
          "text": [
            "Found 2000 images belonging to 10 classes.\n"
          ],
          "name": "stdout"
        }
      ]
    },
    {
      "cell_type": "code",
      "metadata": {
        "id": "GVpRpE3GmPcF"
      },
      "source": [
        ""
      ],
      "execution_count": null,
      "outputs": []
    },
    {
      "cell_type": "code",
      "metadata": {
        "id": "ChZCk1504vB9"
      },
      "source": [
        "x_test,t_test=next(train_test)"
      ],
      "execution_count": 14,
      "outputs": []
    },
    {
      "cell_type": "code",
      "metadata": {
        "id": "hm_U6y_Ngbi5"
      },
      "source": [
        "history = model.fit(X_train, y_train, epochs=20,\n",
        "                    \n",
        "                    validation_data=(X_val, y_val))"
      ],
      "execution_count": null,
      "outputs": []
    },
    {
      "cell_type": "code",
      "metadata": {
        "colab": {
          "base_uri": "https://localhost:8080/"
        },
        "id": "ToH8dN-aot7u",
        "outputId": "376e7254-a21c-42dd-854a-6a9b771cd169"
      },
      "source": [
        "model.evaluate(x_test,t_test)"
      ],
      "execution_count": 27,
      "outputs": [
        {
          "output_type": "stream",
          "text": [
            "32/32 [==============================] - 1s 25ms/step - loss: 2.0344 - accuracy: 0.2620\n"
          ],
          "name": "stdout"
        },
        {
          "output_type": "execute_result",
          "data": {
            "text/plain": [
              "[2.034364938735962, 0.2619999945163727]"
            ]
          },
          "metadata": {
            "tags": []
          },
          "execution_count": 27
        }
      ]
    }
  ]
}